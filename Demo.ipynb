{
 "cells": [
  {
   "cell_type": "markdown",
   "metadata": {},
   "source": [
    "# Demonstration for the Molecule Dataset Preparation\n",
    "\n",
    "by Martin Vögele\n",
    "\n",
    "This demo requires Python 3 with pandas, numpy, pyplot, pytorch and RDKit\n",
    "\n",
    "We start with some basic functions that we use to load and manipulate single molecules and to generate conformers. Then we introduce the central part of the workflow: the MoleculesDataset class. We show how to generate a dataset and to write it in various formats."
   ]
  },
  {
   "cell_type": "code",
   "execution_count": null,
   "metadata": {},
   "outputs": [],
   "source": [
    "# Standard modules\n",
    "from __future__ import print_function, division\n",
    "import os\n",
    "import pickle\n",
    "import pandas as pd\n",
    "import numpy as np\n",
    "import matplotlib.pyplot as plt\n",
    "\n",
    "# needed to make copies of data sets and variables\n",
    "import copy\n",
    "\n",
    "# Pytorch for data set\n",
    "import torch\n",
    "from torch.utils.data import Dataset, DataLoader\n",
    "\n",
    "# RDkit \n",
    "from rdkit import Chem\n",
    "from rdkit.Chem import AllChem\n",
    "from rdkit.Chem import Draw\n",
    "\n",
    "# Molecule dataset definition\n",
    "from molecules_dataset import *"
   ]
  },
  {
   "cell_type": "markdown",
   "metadata": {},
   "source": [
    "## Basic Functions"
   ]
  },
  {
   "cell_type": "markdown",
   "metadata": {},
   "source": [
    "### Reading and sorting data\n",
    "\n",
    "We can read molecules from the SMILES provided in the respective dataset. \n",
    "\n",
    "In most cases, we add the missing hydrogens using RDKit. Hydrogens are added to satisfy the molecules valency for a total zero charge unless the charge of an atom is explicitly stated in the SMILES. We use all charges as stated in the SMILES of the respective dataset."
   ]
  },
  {
   "cell_type": "code",
   "execution_count": null,
   "metadata": {},
   "outputs": [],
   "source": [
    "test_mol = read_smiles('Nc1ccc(O)cc1')"
   ]
  },
  {
   "cell_type": "code",
   "execution_count": null,
   "metadata": {},
   "outputs": [],
   "source": [
    "print(Chem.MolToMolBlock(test_mol))"
   ]
  },
  {
   "cell_type": "markdown",
   "metadata": {},
   "source": [
    "By default, hydrogens are added to the molecule. But we can override this."
   ]
  },
  {
   "cell_type": "code",
   "execution_count": null,
   "metadata": {},
   "outputs": [],
   "source": [
    "test_mol_noh = read_smiles('Nc1ccc(O)cc1', add_h=False)"
   ]
  },
  {
   "cell_type": "code",
   "execution_count": null,
   "metadata": {},
   "outputs": [],
   "source": [
    "print(Chem.MolToMolBlock(test_mol_noh))    "
   ]
  },
  {
   "cell_type": "markdown",
   "metadata": {},
   "source": [
    "We can reorder the atoms such that hydrogens appear after the heavy atoms they are connected to."
   ]
  },
  {
   "cell_type": "code",
   "execution_count": null,
   "metadata": {},
   "outputs": [],
   "source": [
    "test_mol_ordered = reorder_atoms(test_mol)"
   ]
  },
  {
   "cell_type": "code",
   "execution_count": null,
   "metadata": {},
   "outputs": [],
   "source": [
    "print(Chem.MolToMolBlock(test_mol_ordered))  "
   ]
  },
  {
   "cell_type": "markdown",
   "metadata": {},
   "source": [
    "We can randomly reshuffle the atoms."
   ]
  },
  {
   "cell_type": "code",
   "execution_count": null,
   "metadata": {},
   "outputs": [],
   "source": [
    "test_mol_shuffled = reshuffle_atoms(test_mol)"
   ]
  },
  {
   "cell_type": "code",
   "execution_count": null,
   "metadata": {},
   "outputs": [],
   "source": [
    "print(Chem.MolToMolBlock(test_mol_shuffled))    "
   ]
  },
  {
   "cell_type": "markdown",
   "metadata": {},
   "source": [
    "### Generating conformers\n",
    "\n",
    "We generate conformers of a molecule via ETKDG. This algorithm uses the distance geometry method [1], corrected with torsion angle preferences from Cambridge Structural Database (CSD) [2].\n",
    "We then clean them up using RDKit's implementation of the Universal Force Field (UFF).\n",
    "\n",
    "[1] Blaney, J. M.; Dixon, J. S., Reviews in Computational Chemistry, 1994.\n",
    "[2] Riniker, S.; Landrum, G. A., J. Chem. Inf. Comp. Sci., 2015"
   ]
  },
  {
   "cell_type": "code",
   "execution_count": null,
   "metadata": {},
   "outputs": [],
   "source": [
    "generate_conformers(test_mol,3)"
   ]
  },
  {
   "cell_type": "code",
   "execution_count": null,
   "metadata": {},
   "outputs": [],
   "source": [
    "!mkdir examples\n",
    "!mkdir examples/multiple_conformers"
   ]
  },
  {
   "cell_type": "code",
   "execution_count": null,
   "metadata": {},
   "outputs": [],
   "source": [
    "for ic, conf in enumerate(test_mol.GetConformers()): \n",
    "    with open('examples/multiple_conformers/test'+str(ic)+'.xyz','w') as out_file:\n",
    "        num_at = conf.GetNumAtoms()\n",
    "        out_file.write('%i\\ntest\\n'%num_at)\n",
    "        for ia in range(num_at):\n",
    "            symbol   = test_mol.GetAtoms()[ia].GetSymbol()\n",
    "            position = conf.GetAtomPosition(ia)\n",
    "            xyz      = np.array([position.x, position.y, position.z])\n",
    "            out_file.write(\"%s %8.5f %8.5f %8.5f\\n\"%(symbol, position.x, position.y, position.z))"
   ]
  },
  {
   "cell_type": "code",
   "execution_count": null,
   "metadata": {},
   "outputs": [],
   "source": [
    "!cat examples/multiple_conformers/test*.xyz"
   ]
  },
  {
   "cell_type": "markdown",
   "metadata": {},
   "source": [
    "We exclude all molecules for which no conformers were generated."
   ]
  },
  {
   "cell_type": "code",
   "execution_count": null,
   "metadata": {},
   "outputs": [],
   "source": [
    "from io import StringIO\n",
    "import sys\n",
    "Chem.WrapLogs()\n",
    "sio = sys.stderr = StringIO()\n",
    "\n",
    "error_mol = read_smiles('[Mg++].[O--].[Mg++].[Ca++]')\n",
    "generate_conformers(error_mol,3)\n",
    "  \n",
    "if 'ERROR' in sio.getvalue():\n",
    "    print(sio.getvalue()) \n",
    " "
   ]
  },
  {
   "cell_type": "markdown",
   "metadata": {},
   "source": [
    "Many algorithms learn on molecular graphs. The nodes of molecular graphs are the atoms and their connections are chemical bonds. Graphs can be represented by connectivity matrices."
   ]
  },
  {
   "cell_type": "code",
   "execution_count": null,
   "metadata": {},
   "outputs": [],
   "source": [
    "from scipy.sparse.csgraph import floyd_warshall"
   ]
  },
  {
   "cell_type": "code",
   "execution_count": null,
   "metadata": {},
   "outputs": [],
   "source": [
    "cm = get_connectivity_matrix(test_mol_ordered)\n",
    "print(cm)"
   ]
  },
  {
   "cell_type": "code",
   "execution_count": null,
   "metadata": {},
   "outputs": [],
   "source": [
    "dm = floyd_warshall(cm)\n",
    "print(dm)"
   ]
  },
  {
   "cell_type": "code",
   "execution_count": null,
   "metadata": {},
   "outputs": [],
   "source": [
    "graph_dist = np.zeros([cm.shape[0],cm.shape[1],7])"
   ]
  },
  {
   "cell_type": "code",
   "execution_count": null,
   "metadata": {},
   "outputs": [],
   "source": [
    "for i in range(7):\n",
    "    graph_dist[:,:,i] = dm <= i+1"
   ]
  },
  {
   "cell_type": "code",
   "execution_count": null,
   "metadata": {},
   "outputs": [],
   "source": [
    "graph_dist[0,14,:]"
   ]
  },
  {
   "cell_type": "code",
   "execution_count": null,
   "metadata": {},
   "outputs": [],
   "source": [
    "bm = get_bonds_matrix(test_mol)"
   ]
  },
  {
   "cell_type": "code",
   "execution_count": null,
   "metadata": {},
   "outputs": [],
   "source": [
    "bm"
   ]
  },
  {
   "cell_type": "code",
   "execution_count": null,
   "metadata": {},
   "outputs": [],
   "source": [
    "np.unique(bm)"
   ]
  },
  {
   "cell_type": "code",
   "execution_count": null,
   "metadata": {},
   "outputs": [],
   "source": [
    "bonds_one_hot = (np.array([0,1,1.5,2,3]) == bm[...,None]).astype(int)"
   ]
  },
  {
   "cell_type": "code",
   "execution_count": null,
   "metadata": {},
   "outputs": [],
   "source": [
    "bonds_one_hot"
   ]
  },
  {
   "cell_type": "markdown",
   "metadata": {},
   "source": [
    "We can also read conformers from existing SDF files."
   ]
  },
  {
   "cell_type": "markdown",
   "metadata": {},
   "source": [
    "## The datset class\n",
    "The central part of this workflow is the molecules dataset class that handles all information about one dataset. One can add new features or writer functions later"
   ]
  },
  {
   "cell_type": "code",
   "execution_count": null,
   "metadata": {},
   "outputs": [],
   "source": [
    "MoleculesDataset?"
   ]
  },
  {
   "cell_type": "markdown",
   "metadata": {},
   "source": [
    "### Generating the dataset"
   ]
  },
  {
   "cell_type": "code",
   "execution_count": null,
   "metadata": {},
   "outputs": [],
   "source": [
    "esol_logs = MoleculesDataset('datasets_raw/esol/delaney.csv',\n",
    "                             ['ESOL predicted log solubility in mols per litre','measured log solubility in mols per litre'], \n",
    "                             num_conf=1, bond_order=True, max_num_at=66, id_name='Compound ID')"
   ]
  },
  {
   "cell_type": "markdown",
   "metadata": {},
   "source": [
    "Each element (sample) of the dataset gives us all information we have on this molecule."
   ]
  },
  {
   "cell_type": "code",
   "execution_count": null,
   "metadata": {},
   "outputs": [],
   "source": [
    "esol_logs[1]"
   ]
  },
  {
   "cell_type": "code",
   "execution_count": null,
   "metadata": {},
   "outputs": [],
   "source": [
    "blub = esol_logs[1]['data']\n",
    "type(blub[0])"
   ]
  },
  {
   "cell_type": "markdown",
   "metadata": {},
   "source": [
    "### Manipulating and exploring the dataset\n",
    "\n",
    "We can copy datasets and modify them. Some modifying functions are already built in the class."
   ]
  },
  {
   "cell_type": "code",
   "execution_count": null,
   "metadata": {},
   "outputs": [],
   "source": [
    "esol_logs_mod = copy.deepcopy(esol_logs)"
   ]
  },
  {
   "cell_type": "markdown",
   "metadata": {},
   "source": [
    "Here we add Gaussian noise to the molecular coordinates.\n",
    "The width of the distribution is given in Angstroms."
   ]
  },
  {
   "cell_type": "code",
   "execution_count": null,
   "metadata": {},
   "outputs": [],
   "source": [
    "width=2"
   ]
  },
  {
   "cell_type": "code",
   "execution_count": null,
   "metadata": {},
   "outputs": [],
   "source": [
    "esol_logs_mod.add_noise(width)"
   ]
  },
  {
   "cell_type": "code",
   "execution_count": null,
   "metadata": {},
   "outputs": [],
   "source": [
    "differences = []\n",
    "# For each molecule ...\n",
    "for i,mol in enumerate(esol_logs_mod.coords):\n",
    "    # ... for each conformer ...\n",
    "    for j,conf in enumerate(mol):\n",
    "        # ... and for each atom\n",
    "        for k,atom in enumerate(conf):\n",
    "            diff = esol_logs_mod.coords[i][j][k]-esol_logs.coords[i][j][k]\n",
    "            differences.append(diff[0])\n",
    "            differences.append(diff[1])\n",
    "            differences.append(diff[2])"
   ]
  },
  {
   "cell_type": "code",
   "execution_count": null,
   "metadata": {},
   "outputs": [],
   "source": [
    "plt.hist(differences,100)\n",
    "plt.show()"
   ]
  },
  {
   "cell_type": "markdown",
   "metadata": {},
   "source": [
    "Now let's get some statistics on how many molecules contain a certain element. \n",
    "\n",
    "We see, e.g., that all molecules contain carbon and almost all contain hydrogen."
   ]
  },
  {
   "cell_type": "code",
   "execution_count": null,
   "metadata": {},
   "outputs": [],
   "source": [
    "el_names,num_el_contained = esol_logs.element_statistics()"
   ]
  },
  {
   "cell_type": "code",
   "execution_count": null,
   "metadata": {},
   "outputs": [],
   "source": [
    "fig,ax = plt.subplots(1,1,figsize=[4,3],dpi=100)\n",
    "ax.bar(el_names,num_el_contained)\n",
    "ax.set_ylim(0,np.max(num_el_contained))\n",
    "#plt.xticks(fontsize=12)\n",
    "ax.set_xlim(-0.5,9.5)\n",
    "ax.set_xlabel('element')\n",
    "ax.set_ylabel('num. of mol. with this element')\n",
    "fig.tight_layout()"
   ]
  },
  {
   "cell_type": "markdown",
   "metadata": {},
   "source": [
    "### Splitting the dataset\n",
    "\n",
    "We can also split the dataset in test, validation, and training sets (with manually definable random seed)."
   ]
  },
  {
   "cell_type": "code",
   "execution_count": null,
   "metadata": {},
   "outputs": [],
   "source": [
    "test_indices, vali_indices, train_indices = esol_logs.split_randomly(random_seed=42)\n",
    "print(test_indices)"
   ]
  },
  {
   "cell_type": "markdown",
   "metadata": {},
   "source": [
    "With the function ```split_by_list```, we can provide lists of SMILES by which to split the dataset."
   ]
  },
  {
   "cell_type": "markdown",
   "metadata": {},
   "source": [
    "### Writing the dataset\n",
    "\n",
    "In case we cannot directly feed the dataset into the code, we can write it in various formats.\n",
    "\n",
    "There are three different writer functions. They have been designed to produce input data for Cormorant, for one of its predecessors, and for graph-based methods.\n",
    "\n",
    "More writer functions can be added as necessary."
   ]
  },
  {
   "cell_type": "code",
   "execution_count": null,
   "metadata": {},
   "outputs": [],
   "source": [
    "esol_logs.write_connectivity_matrices('examples/logS_test.dat', prop_idx=1, indices=test_indices )\n",
    "esol_logs.write_connectivity_matrices('examples/logS_vali.dat', prop_idx=1, indices=vali_indices )\n",
    "esol_logs.write_connectivity_matrices('examples/logS_train.dat',prop_idx=1, indices=train_indices)"
   ]
  },
  {
   "cell_type": "code",
   "execution_count": null,
   "metadata": {},
   "outputs": [],
   "source": [
    "esol_logs.write_compressed('examples/logS_test.npz', indices=test_indices, write_bonds=True)\n",
    "esol_logs.write_compressed('examples/logS_vali.npz', indices=vali_indices, write_bonds=True)\n",
    "esol_logs.write_compressed('examples/logS_train.npz',indices=train_indices,write_bonds=True)"
   ]
  },
  {
   "cell_type": "code",
   "execution_count": null,
   "metadata": {},
   "outputs": [],
   "source": [
    "esol_logs.mol[0]"
   ]
  },
  {
   "cell_type": "code",
   "execution_count": null,
   "metadata": {},
   "outputs": [],
   "source": [
    "logs_test = np.load('examples/logS_test.npz')\n",
    "print(logs_test.files)\n",
    "print(logs_test['bonds'].shape)\n",
    "print(logs_test['bonds'][0])"
   ]
  },
  {
   "cell_type": "code",
   "execution_count": null,
   "metadata": {},
   "outputs": [],
   "source": [
    "esol_logs.write_sdf_dataset('examples/logS_test', indices=test_indices)\n",
    "esol_logs.write_sdf_dataset('examples/logS_vali', indices=vali_indices)\n",
    "esol_logs.write_sdf_dataset('examples/logS_train',indices=train_indices)"
   ]
  },
  {
   "cell_type": "code",
   "execution_count": null,
   "metadata": {},
   "outputs": [],
   "source": [
    "esol_logs.write_sdf_per_molecule('examples/logS_per_molecule_test', indices=test_indices)\n",
    "esol_logs.write_sdf_per_molecule('examples/logS_per_molecule_vali', indices=vali_indices)\n",
    "esol_logs.write_sdf_per_molecule('examples/logS_per_molecule_train',indices=train_indices)"
   ]
  },
  {
   "cell_type": "code",
   "execution_count": null,
   "metadata": {},
   "outputs": [],
   "source": [
    "esol_logs.write_sdf_per_conformer('examples/logS_per_conformer_test', indices=test_indices)\n",
    "esol_logs.write_sdf_per_conformer('examples/logS_per_conformer_vali', indices=vali_indices)\n",
    "esol_logs.write_sdf_per_conformer('examples/logS_per_conformer_train',indices=train_indices)"
   ]
  }
 ],
 "metadata": {
  "kernelspec": {
   "display_name": "Python 3",
   "language": "python",
   "name": "python3"
  },
  "language_info": {
   "codemirror_mode": {
    "name": "ipython",
    "version": 3
   },
   "file_extension": ".py",
   "mimetype": "text/x-python",
   "name": "python",
   "nbconvert_exporter": "python",
   "pygments_lexer": "ipython3",
   "version": "3.7.3"
  }
 },
 "nbformat": 4,
 "nbformat_minor": 2
}
